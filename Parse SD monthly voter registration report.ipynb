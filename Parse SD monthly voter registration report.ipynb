{
 "cells": [
  {
   "cell_type": "markdown",
   "id": "6507088a-306a-47d1-97f7-57f3d07ad247",
   "metadata": {},
   "source": [
    "# Parse SD monthly voter registration report\n",
    "\n",
    "Uses:\n",
    "- `requests` to get the PDF from [the Secretary of State's website](https://sdsos.gov/elections-voting/upcoming-elections/voter-registration-totals/voter-registration-by-county.aspx)\n",
    "- `pdfplumber` to parse and validate the data"
   ]
  },
  {
   "cell_type": "code",
   "execution_count": 1,
   "id": "b2b53d3d-b352-40e3-9e9f-b8af14d72735",
   "metadata": {},
   "outputs": [],
   "source": [
    "from io import BytesIO\n",
    "from datetime import datetime\n",
    "import csv\n",
    "from pathlib import Path\n",
    "\n",
    "import requests\n",
    "import pdfplumber"
   ]
  },
  {
   "cell_type": "code",
   "execution_count": 2,
   "id": "3c20d214-6797-4301-bdc4-037cff26fb60",
   "metadata": {},
   "outputs": [],
   "source": [
    "url = 'https://sdsos.gov/elections-voting/assets/StatewideVoterRegistrationTotals/StatewideVotersByCounty_12.2.2024.pdf'\n",
    "req = requests.get(url)"
   ]
  },
  {
   "cell_type": "code",
   "execution_count": 3,
   "id": "be80d888-da26-44bb-baa4-226bfc0314d1",
   "metadata": {},
   "outputs": [],
   "source": [
    "pdf = pdfplumber.open(BytesIO(req.content))"
   ]
  },
  {
   "cell_type": "code",
   "execution_count": 4,
   "id": "75b29825-8e5d-4a99-9bc4-5d5eb05a678b",
   "metadata": {},
   "outputs": [],
   "source": [
    "# assumes a 2-page PDF with a table spanning both pages\n",
    "if len(pdf.pages) != 2:\n",
    "    raise Exception(f'Report page count is {len(pdf.pages)}, not 2 -- check it out: {url}')"
   ]
  },
  {
   "cell_type": "code",
   "execution_count": 5,
   "id": "00eae6d5-a16b-4d97-94aa-1a6d632b2eb7",
   "metadata": {},
   "outputs": [],
   "source": [
    "lines = pdf.pages[0].extract_table() + pdf.pages[1].extract_table()\n",
    "\n",
    "# guarding against some PDFs parsed with an extra column\n",
    "lines = [x[:-1] if not x[-1] else x for x in lines]"
   ]
  },
  {
   "cell_type": "code",
   "execution_count": 6,
   "id": "fcabf216-1de9-4626-8ce4-395e59da2bc7",
   "metadata": {
    "scrolled": true
   },
   "outputs": [
    {
     "data": {
      "text/plain": [
       "[['Statewide Report by County - December 2, 2024',\n",
       "  None,\n",
       "  None,\n",
       "  None,\n",
       "  None,\n",
       "  None,\n",
       "  None,\n",
       "  None,\n",
       "  None],\n",
       " ['County',\n",
       "  'Democratic',\n",
       "  'Libertarian',\n",
       "  'Republican',\n",
       "  'Independent',\n",
       "  'OTH',\n",
       "  'No Party\\nAffiliation',\n",
       "  'No Labels',\n",
       "  'Inactive',\n",
       "  'Total Active'],\n",
       " ['Aurora', '520', '2', '986', '231', '2', '100', '', '104', '1841'],\n",
       " ['Beadle',\n",
       "  '2,495',\n",
       "  '26',\n",
       "  '5,135',\n",
       "  '1,381',\n",
       "  '41',\n",
       "  '1,130',\n",
       "  '1',\n",
       "  '777',\n",
       "  '10209'],\n",
       " ['Bennett', '691', '7', '732', '207', '2', '201', '', '185', '1840'],\n",
       " ['Bon Homme', '885', '12', '2,377', '484', '', '233', '', '286', '3991'],\n",
       " ['Brookings',\n",
       "  '5,109',\n",
       "  '108',\n",
       "  '10,010',\n",
       "  '3,639',\n",
       "  '22',\n",
       "  '2,823',\n",
       "  '2',\n",
       "  '1574',\n",
       "  '21713'],\n",
       " ['Brown',\n",
       "  '7,264',\n",
       "  '100',\n",
       "  '12,960',\n",
       "  '3,592',\n",
       "  '11',\n",
       "  '1,969',\n",
       "  '3',\n",
       "  '1118',\n",
       "  '25899'],\n",
       " ['Brule', '900', '15', '1,762', '465', '4', '216', '', '171', '3362'],\n",
       " ['Buffalo', '536', '2', '152', '74', '4', '100', '', '116', '868'],\n",
       " ['Butte', '779', '56', '4,606', '877', '20', '647', '', '1342', '6985'],\n",
       " ['Campbell', '105', '1', '912', '75', '', '40', '', '73', '1133'],\n",
       " ['Charles Mix', '1,787', '9', '2,715', '587', '', '349', '', '439', '5447'],\n",
       " ['Clark', '537', '4', '1,654', '262', '', '156', '', '137', '2613'],\n",
       " ['Clay', '2,895', '36', '3,052', '1,450', '11', '1,145', '5', '1223', '8594'],\n",
       " ['Codington',\n",
       "  '3,884',\n",
       "  '65',\n",
       "  '10,502',\n",
       "  '2,619',\n",
       "  '27',\n",
       "  '1,868',\n",
       "  '',\n",
       "  '1577',\n",
       "  '18965'],\n",
       " ['Corson', '977', '5', '749', '282', '3', '294', '', '230', '2310'],\n",
       " ['Custer', '1,055', '38', '5,150', '1,116', '24', '674', '1', '974', '8058'],\n",
       " ['Davison',\n",
       "  '2,781',\n",
       "  '31',\n",
       "  '6,872',\n",
       "  '1,906',\n",
       "  '35',\n",
       "  '1,487',\n",
       "  '3',\n",
       "  '1269',\n",
       "  '13115'],\n",
       " ['Day', '1,260', '12', '1,917', '588', '', '169', '', '223', '3946'],\n",
       " ['Deuel', '589', '11', '1,775', '485', '', '280', '1', '119', '3141'],\n",
       " ['Dewey', '1,800', '4', '774', '428', '1', '396', '', '229', '3403'],\n",
       " ['Douglas', '203', '1', '1,666', '143', '', '98', '', '111', '2111'],\n",
       " ['Edmunds', '516', '7', '1,783', '256', '2', '176', '', '141', '2740'],\n",
       " ['Fall River', '890', '41', '3,940', '900', '2', '638', '1', '395', '6412'],\n",
       " ['Faulk', '190', '1', '1,130', '220', '', '39', '', '58', '1580'],\n",
       " ['Grant', '1,057', '18', '2,719', '706', '11', '342', '', '341', '4853'],\n",
       " ['Gregory', '617', '4', '1,859', '345', '', '85', '', '152', '2910'],\n",
       " ['Haakon', '116', '2', '1,171', '87', '2', '29', '', '61', '1407'],\n",
       " ['Hamlin', '540', '7', '3,082', '377', '', '261', '', '221', '4267'],\n",
       " ['Hand', '399', '8', '1,655', '187', '4', '55', '', '89', '2308'],\n",
       " ['Hanson', '593', '6', '1,884', '493', '7', '368', '', '485', '3351'],\n",
       " ['Harding', '63', '6', '843', '75', '1', '42', '', '49', '1030'],\n",
       " ['Hughes', '2,156', '44', '7,369', '1,407', '18', '948', '', '1031', '11942'],\n",
       " ['Hutchinson', '716', '14', '3,440', '531', '8', '330', '', '208', '5039'],\n",
       " ['Hyde', '149', '1', '659', '94', '', '29', '', '42', '932'],\n",
       " ['Jackson', '583', '6', '916', '166', '1', '164', '', '130', '1836'],\n",
       " ['Jerauld', '328', '6', '728', '132', '1', '69', '', '70', '1264'],\n",
       " ['Jones', '62', '1', '525', '59', '', '28', '1', '52', '676'],\n",
       " ['Kingsbury', '670', '7', '2,292', '394', '2', '310', '', '282', '3675'],\n",
       " ['Lake', '1,911', '25', '4,359', '965', '5', '607', '2', '2126', '7874'],\n",
       " ['Lawrence',\n",
       "  '3,949',\n",
       "  '177',\n",
       "  '12,270',\n",
       "  '3,284',\n",
       "  '40',\n",
       "  '2,701',\n",
       "  '6',\n",
       "  '2350',\n",
       "  '22427'],\n",
       " ['Lincoln',\n",
       "  '10,157',\n",
       "  '236',\n",
       "  '25,504',\n",
       "  '7,756',\n",
       "  '81',\n",
       "  '5,232',\n",
       "  '11',\n",
       "  '4911',\n",
       "  '48977'],\n",
       " ['Lyman', '657', '4', '1,156', '219', '1', '152', '', '108', '2189'],\n",
       " ['Marshall', '966', '2', '1,299', '383', '2', '172', '', '162', '2824'],\n",
       " ['McCook', '796', '8', '2,400', '524', '3', '274', '', '146', '4005'],\n",
       " ['McPherson', '191', '8', '1,334', '131', '', '69', '', '161', '1733'],\n",
       " ['Meade',\n",
       "  '2,820',\n",
       "  '153',\n",
       "  '12,951',\n",
       "  '2,865',\n",
       "  '20',\n",
       "  '2,122',\n",
       "  '2',\n",
       "  '1610',\n",
       "  '20933'],\n",
       " ['Mellette', '413', '1', '500', '189', '', '66', '', '65', '1169'],\n",
       " ['Miner', '431', '5', '840', '232', '', '110', '', '81', '1618'],\n",
       " ['Minnehaha',\n",
       "  '36,320',\n",
       "  '746',\n",
       "  '59,186',\n",
       "  '22,665',\n",
       "  '255',\n",
       "  '18,595',\n",
       "  '17',\n",
       "  '17243',\n",
       "  '137784'],\n",
       " ['Moody', '1,308', '15', '1,946', '703', '4', '412', '1', '207', '4389'],\n",
       " ['Oglala Lakota',\n",
       "  '5,247',\n",
       "  '18',\n",
       "  '586',\n",
       "  '980',\n",
       "  '1',\n",
       "  '1,213',\n",
       "  '',\n",
       "  '634',\n",
       "  '8045'],\n",
       " ['Pennington',\n",
       "  '18,081',\n",
       "  '681',\n",
       "  '46,729',\n",
       "  '13,210',\n",
       "  '213',\n",
       "  '12,085',\n",
       "  '26',\n",
       "  '9832',\n",
       "  '91025'],\n",
       " ['Perkins', '258', '4', '1,563', '194', '4', '157', '', '177', '2180'],\n",
       " ['Potter', '182', '1', '1,345', '107', '6', '41', '1', '143', '1683'],\n",
       " ['Roberts', '2,390', '10', '2,256', '937', '19', '619', '', '479', '6231'],\n",
       " ['Sanborn', '358', '7', '993', '164', '', '126', '1', '60', '1649'],\n",
       " ['Spink', '1,003', '10', '2,552', '452', '2', '229', '', '201', '4248'],\n",
       " ['Stanley', '335', '7', '1,568', '189', '', '115', '', '203', '2214'],\n",
       " ['Sully', '160', '5', '833', '109', '', '36', '', '68', '1143'],\n",
       " ['Todd', '2,742', '7', '661', '581', '5', '557', '', '763', '4553'],\n",
       " ['Tripp', '569', '7', '2,438', '347', '7', '223', '', '380', '3591'],\n",
       " ['Turner', '1,126', '15', '3,666', '907', '', '379', '', '231', '6093'],\n",
       " ['Union',\n",
       "  '2,324',\n",
       "  '44',\n",
       "  '6,638',\n",
       "  '2,208',\n",
       "  '9',\n",
       "  '1,500',\n",
       "  '2',\n",
       "  '2175',\n",
       "  '12725'],\n",
       " ['Walworth', '578', '8', '2,473', '336', '11', '255', '', '467', '3661'],\n",
       " ['Yankton',\n",
       "  '3,490',\n",
       "  '60',\n",
       "  '7,492',\n",
       "  '2,564',\n",
       "  '15',\n",
       "  '1,336',\n",
       "  '',\n",
       "  '1569',\n",
       "  '14957'],\n",
       " ['Ziebach', '742', '5', '433', '173', '1', '250', '', '95', '1604'],\n",
       " ['Total',\n",
       "  '146,201',\n",
       "  '2,993',\n",
       "  '318,424',\n",
       "  '90,694',\n",
       "  '970',\n",
       "  '67,921',\n",
       "  '87',\n",
       "  '62,731',\n",
       "  '627,290'],\n",
       " [\"Independent (IND) / No Party Affiliation (NPA) – South Dakota does not have an Independent Party. If a person completes a registration card to change that person's name,\\naddress, phone number, or email address, and leaves the field for party affiliation blank, the county auditor must list the person's party affiliation as the most recent party affiliation\\nregistered for that person. If a person completes a registration card to register to vote for the first time in the state and leaves the field for party affiliation blank, the county auditor must\\nregister that person's party affiliation as no party affiliation.\",\n",
       "  None,\n",
       "  None,\n",
       "  None,\n",
       "  None,\n",
       "  None,\n",
       "  None,\n",
       "  None,\n",
       "  None],\n",
       " ['SDCL 12-1-3 (22) and SDCL 12-4-5',\n",
       "  None,\n",
       "  None,\n",
       "  None,\n",
       "  None,\n",
       "  None,\n",
       "  None,\n",
       "  None,\n",
       "  None],\n",
       " ['OTHER – This category is for voters who write any other political party on their voter registration form that is not currently a recognized political party in South Dakota.',\n",
       "  None,\n",
       "  None,\n",
       "  None,\n",
       "  None,\n",
       "  None,\n",
       "  None,\n",
       "  None,\n",
       "  None],\n",
       " ['NOTE - The South Dakota Democratic Party has opened their primary election up for all voters registered as independent/no party affiliation to vote in their primary. Voters registered\\nin the “other” category are not allowed to vote in the SD Democratic Party primary.',\n",
       "  None,\n",
       "  None,\n",
       "  None,\n",
       "  None,\n",
       "  None,\n",
       "  None,\n",
       "  None,\n",
       "  None],\n",
       " ['The Libertarian Party became a recognized party on June 17, 2016.',\n",
       "  None,\n",
       "  None,\n",
       "  None,\n",
       "  None,\n",
       "  None,\n",
       "  None,\n",
       "  None,\n",
       "  None],\n",
       " ['The Constitution Party became a recognized party on March 31, 2016. By statutes SDCL 12-5-1.5 and 12-1-3, the Constitution Party lost party status on November 14, 2018. The No\\nLabels Party became a recognized party on August 4, 2023.',\n",
       "  None,\n",
       "  None,\n",
       "  None,\n",
       "  None,\n",
       "  None,\n",
       "  None,\n",
       "  None,\n",
       "  None]]"
      ]
     },
     "execution_count": 6,
     "metadata": {},
     "output_type": "execute_result"
    }
   ],
   "source": [
    "lines"
   ]
  },
  {
   "cell_type": "code",
   "execution_count": 7,
   "id": "e6cd53a9-2f58-402a-9b1a-5e5c9b3046dd",
   "metadata": {},
   "outputs": [],
   "source": [
    "# report date is in the first line\n",
    "report_date = lines.pop(0)"
   ]
  },
  {
   "cell_type": "code",
   "execution_count": 8,
   "id": "9b5d3f66-568d-4d26-a0f4-d8600ae0af9e",
   "metadata": {},
   "outputs": [
    {
     "name": "stdout",
     "output_type": "stream",
     "text": [
      "2024-12-02\n"
     ]
    }
   ],
   "source": [
    "report_date = report_date[0].split('-')[-1].strip()\n",
    "report_date = datetime.strptime(report_date, '%B %d, %Y').date().isoformat()\n",
    "\n",
    "print(report_date)"
   ]
  },
  {
   "cell_type": "code",
   "execution_count": 9,
   "id": "6fdeee0c-061a-4977-8194-8e88e8a8deee",
   "metadata": {},
   "outputs": [
    {
     "name": "stdout",
     "output_type": "stream",
     "text": [
      "Wrote /Users/cjwinchester/sd-voter-registration-data/pdfs/2024-12-02.pdf\n"
     ]
    }
   ],
   "source": [
    "# save the PDF\n",
    "outpath = (Path('pdfs') / f'{report_date}.pdf').resolve()\n",
    "\n",
    "with open(outpath, 'wb') as outfile:\n",
    "    outfile.write(req.content)\n",
    "\n",
    "print(f'Wrote {outpath}')"
   ]
  },
  {
   "cell_type": "code",
   "execution_count": 10,
   "id": "2e5d21b2-be5d-4d9e-998c-d01c4df2af11",
   "metadata": {},
   "outputs": [],
   "source": [
    "# standardizing column names\n",
    "column_fixes = {\n",
    "    'oth': 'other',\n",
    "    'no party\\naffiliation': 'npa',\n",
    "    'no labels': 'no_labels',\n",
    "    'npa/ind': 'npa_ind'\n",
    "}"
   ]
  },
  {
   "cell_type": "code",
   "execution_count": 11,
   "id": "2be7ac8a-fe25-403d-a49b-9bd91ff4639b",
   "metadata": {},
   "outputs": [],
   "source": [
    "# headers are in the first line of the data table\n",
    "headers = lines.pop(0)\n",
    "headers = [column_fixes.get(x.lower(), x.lower()) for x in headers]"
   ]
  },
  {
   "cell_type": "code",
   "execution_count": 12,
   "id": "b8f74e2e-38b0-46d3-9de5-fa9d344a43d7",
   "metadata": {},
   "outputs": [
    {
     "data": {
      "text/plain": [
       "['county',\n",
       " 'democratic',\n",
       " 'libertarian',\n",
       " 'republican',\n",
       " 'independent',\n",
       " 'other',\n",
       " 'npa',\n",
       " 'no_labels',\n",
       " 'inactive',\n",
       " 'total active']"
      ]
     },
     "execution_count": 12,
     "metadata": {},
     "output_type": "execute_result"
    }
   ],
   "source": [
    "headers"
   ]
  },
  {
   "cell_type": "code",
   "execution_count": 13,
   "id": "87b4e954-d9ec-49b8-b6e3-fc53040bce60",
   "metadata": {
    "scrolled": true
   },
   "outputs": [],
   "source": [
    "data = []\n",
    "\n",
    "# loop over the remaining lines\n",
    "for line in lines:\n",
    "\n",
    "    first_cell = line[0].lower()\n",
    "\n",
    "    # skip lines if repeated headers\n",
    "    if 'statewide' in first_cell or 'county' in first_cell:\n",
    "        continue\n",
    "\n",
    "    # the 'Total' line in the table means we're done\n",
    "    if 'total' in first_cell:\n",
    "        break\n",
    "\n",
    "    # check that the number of values matches the number of headers\n",
    "    assert(len(line) == len(headers))\n",
    "\n",
    "    # zip it up into a dict\n",
    "    county_data = dict(zip(headers, line))\n",
    "\n",
    "    # delete the aggregate value totaling everything up\n",
    "    del county_data['total active']\n",
    "\n",
    "    # cast number strings to integers\n",
    "    for key in county_data:\n",
    "        if key == 'county' or not county_data[key]:\n",
    "            continue\n",
    "\n",
    "        county_data[key] = int(county_data[key].replace(',', ''))\n",
    "\n",
    "    # add the report date\n",
    "    county_data['date'] = report_date\n",
    "    data.append(county_data)"
   ]
  },
  {
   "cell_type": "code",
   "execution_count": 14,
   "id": "6571d1b4-ba88-4b3b-9fce-0f9cdd6721d1",
   "metadata": {},
   "outputs": [],
   "source": [
    "# doublecheck: 66 counties in SD\n",
    "assert(len(data) == 66)"
   ]
  },
  {
   "cell_type": "code",
   "execution_count": 15,
   "id": "25fe47d7-bd47-46f5-b4bf-b2972e761421",
   "metadata": {},
   "outputs": [
    {
     "data": {
      "text/plain": [
       "{'county': 'Aurora',\n",
       " 'democratic': 520,\n",
       " 'libertarian': 2,\n",
       " 'republican': 986,\n",
       " 'independent': 231,\n",
       " 'other': 2,\n",
       " 'npa': 100,\n",
       " 'no_labels': '',\n",
       " 'inactive': 104,\n",
       " 'date': '2024-12-02'}"
      ]
     },
     "execution_count": 15,
     "metadata": {},
     "output_type": "execute_result"
    }
   ],
   "source": [
    "data[0]"
   ]
  },
  {
   "cell_type": "code",
   "execution_count": 16,
   "id": "1cb251c3-ef9f-4898-9bc7-02b3230b52b9",
   "metadata": {},
   "outputs": [],
   "source": [
    "# shift 'date' to the beginning of headers list for the output CSV\n",
    "csv_headers = list(data[0].keys())\n",
    "csv_headers = csv_headers[-1:] + csv_headers[:-1]"
   ]
  },
  {
   "cell_type": "code",
   "execution_count": 17,
   "id": "1ddeeb67-a213-45bc-bffe-10b25ebad375",
   "metadata": {},
   "outputs": [
    {
     "name": "stdout",
     "output_type": "stream",
     "text": [
      "Wrote file: /Users/cjwinchester/sd-voter-registration-data/data/2024-12-02.csv\n"
     ]
    }
   ],
   "source": [
    "# write to file\n",
    "filepath = (Path('data') / f'{report_date}.csv').resolve()\n",
    "\n",
    "with open(filepath, 'w') as outfile:\n",
    "    writer = csv.DictWriter(\n",
    "        outfile,\n",
    "        fieldnames=csv_headers\n",
    "    )\n",
    "\n",
    "    writer.writeheader()\n",
    "    writer.writerows(data)\n",
    "\n",
    "    print(f'Wrote file: {filepath}')"
   ]
  },
  {
   "cell_type": "code",
   "execution_count": 18,
   "id": "d7b2a96f-de03-4cb9-b420-620aea8e3f46",
   "metadata": {},
   "outputs": [
    {
     "name": "stdout",
     "output_type": "stream",
     "text": [
      "Party list: americans_elect, constitution, democratic, inactive, independent, libertarian, no_labels, npa, npa_ind, npa_ind_oth, other, reform, republican\n",
      "--------------------\n",
      "Wrote sd-voter-registration-data.csv\n",
      "Wrote sd-voter-registration-data-simplified.csv\n",
      "Wrote README.md\n"
     ]
    }
   ],
   "source": [
    "%run build_files.py"
   ]
  },
  {
   "cell_type": "code",
   "execution_count": null,
   "id": "d4bf0181-950a-46e7-8686-0ff0fc90064e",
   "metadata": {},
   "outputs": [],
   "source": []
  }
 ],
 "metadata": {
  "kernelspec": {
   "display_name": "Python 3 (ipykernel)",
   "language": "python",
   "name": "python3"
  },
  "language_info": {
   "codemirror_mode": {
    "name": "ipython",
    "version": 3
   },
   "file_extension": ".py",
   "mimetype": "text/x-python",
   "name": "python",
   "nbconvert_exporter": "python",
   "pygments_lexer": "ipython3",
   "version": "3.12.7"
  }
 },
 "nbformat": 4,
 "nbformat_minor": 5
}
